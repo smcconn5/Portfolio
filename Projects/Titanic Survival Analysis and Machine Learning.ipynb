{
 "cells": [
  {
   "cell_type": "markdown",
   "metadata": {},
   "source": [
    "# Titanic Survival Analysis and Machine Learning\n",
    "\n",
    "### This project is from the Titanic data science competition on Kaggle (https://www.kaggle.com/c/titanic)\n",
    "\n",
    "This notebook will take a full fledged analysis of the passenger data provided, as well as utilize supervised machine learning techniques to predict survival based on input factors.\n",
    "\n",
    "Field Legend\n",
    "- survival\tSurvival\t0 = No, 1 = Yes\n",
    "- pclass\tTicket class\t1 = 1st, 2 = 2nd, 3 = 3rd\n",
    "- sex\tSex\t\n",
    "- Age\tAge in years\t\n",
    "- sibsp\t# of siblings / spouses aboard the Titanic\t\n",
    "- parch\t# of parents / children aboard the Titanic\t\n",
    "- ticket\tTicket number\t\n",
    "- fare\tPassenger fare\t\n",
    "- cabin\tCabin number\t\n",
    "- embarked\tPort of Embarkation\tC = Cherbourg, Q = Queenstown, S = Southampton\n",
    "\n"
   ]
  },
  {
   "cell_type": "markdown",
   "metadata": {},
   "source": [
    "### Import relevant libraries and datasets"
   ]
  },
  {
   "cell_type": "code",
   "execution_count": 1,
   "metadata": {},
   "outputs": [],
   "source": [
    "# data analysis and wrangling\n",
    "import pandas as pd\n",
    "\n",
    "# visualization\n",
    "import seaborn as sns\n",
    "\n",
    "# machine learning\n",
    "from sklearn.linear_model import LogisticRegression\n",
    "from sklearn.svm import SVC, LinearSVC\n",
    "from sklearn.ensemble import RandomForestClassifier\n",
    "from sklearn.neighbors import KNeighborsClassifier\n",
    "from sklearn.naive_bayes import GaussianNB\n",
    "from sklearn.tree import DecisionTreeClassifier\n"
   ]
  },
  {
   "cell_type": "code",
   "execution_count": 2,
   "metadata": {},
   "outputs": [
    {
     "data": {
      "text/html": [
       "<div>\n",
       "<style scoped>\n",
       "    .dataframe tbody tr th:only-of-type {\n",
       "        vertical-align: middle;\n",
       "    }\n",
       "\n",
       "    .dataframe tbody tr th {\n",
       "        vertical-align: top;\n",
       "    }\n",
       "\n",
       "    .dataframe thead th {\n",
       "        text-align: right;\n",
       "    }\n",
       "</style>\n",
       "<table border=\"1\" class=\"dataframe\">\n",
       "  <thead>\n",
       "    <tr style=\"text-align: right;\">\n",
       "      <th></th>\n",
       "      <th>PassengerId</th>\n",
       "      <th>Survived</th>\n",
       "      <th>Pclass</th>\n",
       "      <th>Name</th>\n",
       "      <th>Sex</th>\n",
       "      <th>Age</th>\n",
       "      <th>SibSp</th>\n",
       "      <th>Parch</th>\n",
       "      <th>Ticket</th>\n",
       "      <th>Fare</th>\n",
       "      <th>Cabin</th>\n",
       "      <th>Embarked</th>\n",
       "    </tr>\n",
       "  </thead>\n",
       "  <tbody>\n",
       "    <tr>\n",
       "      <td>0</td>\n",
       "      <td>1</td>\n",
       "      <td>0</td>\n",
       "      <td>3</td>\n",
       "      <td>Braund, Mr. Owen Harris</td>\n",
       "      <td>male</td>\n",
       "      <td>22.0</td>\n",
       "      <td>1</td>\n",
       "      <td>0</td>\n",
       "      <td>A/5 21171</td>\n",
       "      <td>7.2500</td>\n",
       "      <td>NaN</td>\n",
       "      <td>S</td>\n",
       "    </tr>\n",
       "    <tr>\n",
       "      <td>1</td>\n",
       "      <td>2</td>\n",
       "      <td>1</td>\n",
       "      <td>1</td>\n",
       "      <td>Cumings, Mrs. John Bradley (Florence Briggs Th...</td>\n",
       "      <td>female</td>\n",
       "      <td>38.0</td>\n",
       "      <td>1</td>\n",
       "      <td>0</td>\n",
       "      <td>PC 17599</td>\n",
       "      <td>71.2833</td>\n",
       "      <td>C85</td>\n",
       "      <td>C</td>\n",
       "    </tr>\n",
       "    <tr>\n",
       "      <td>2</td>\n",
       "      <td>3</td>\n",
       "      <td>1</td>\n",
       "      <td>3</td>\n",
       "      <td>Heikkinen, Miss. Laina</td>\n",
       "      <td>female</td>\n",
       "      <td>26.0</td>\n",
       "      <td>0</td>\n",
       "      <td>0</td>\n",
       "      <td>STON/O2. 3101282</td>\n",
       "      <td>7.9250</td>\n",
       "      <td>NaN</td>\n",
       "      <td>S</td>\n",
       "    </tr>\n",
       "    <tr>\n",
       "      <td>3</td>\n",
       "      <td>4</td>\n",
       "      <td>1</td>\n",
       "      <td>1</td>\n",
       "      <td>Futrelle, Mrs. Jacques Heath (Lily May Peel)</td>\n",
       "      <td>female</td>\n",
       "      <td>35.0</td>\n",
       "      <td>1</td>\n",
       "      <td>0</td>\n",
       "      <td>113803</td>\n",
       "      <td>53.1000</td>\n",
       "      <td>C123</td>\n",
       "      <td>S</td>\n",
       "    </tr>\n",
       "    <tr>\n",
       "      <td>4</td>\n",
       "      <td>5</td>\n",
       "      <td>0</td>\n",
       "      <td>3</td>\n",
       "      <td>Allen, Mr. William Henry</td>\n",
       "      <td>male</td>\n",
       "      <td>35.0</td>\n",
       "      <td>0</td>\n",
       "      <td>0</td>\n",
       "      <td>373450</td>\n",
       "      <td>8.0500</td>\n",
       "      <td>NaN</td>\n",
       "      <td>S</td>\n",
       "    </tr>\n",
       "  </tbody>\n",
       "</table>\n",
       "</div>"
      ],
      "text/plain": [
       "   PassengerId  Survived  Pclass  \\\n",
       "0            1         0       3   \n",
       "1            2         1       1   \n",
       "2            3         1       3   \n",
       "3            4         1       1   \n",
       "4            5         0       3   \n",
       "\n",
       "                                                Name     Sex   Age  SibSp  \\\n",
       "0                            Braund, Mr. Owen Harris    male  22.0      1   \n",
       "1  Cumings, Mrs. John Bradley (Florence Briggs Th...  female  38.0      1   \n",
       "2                             Heikkinen, Miss. Laina  female  26.0      0   \n",
       "3       Futrelle, Mrs. Jacques Heath (Lily May Peel)  female  35.0      1   \n",
       "4                           Allen, Mr. William Henry    male  35.0      0   \n",
       "\n",
       "   Parch            Ticket     Fare Cabin Embarked  \n",
       "0      0         A/5 21171   7.2500   NaN        S  \n",
       "1      0          PC 17599  71.2833   C85        C  \n",
       "2      0  STON/O2. 3101282   7.9250   NaN        S  \n",
       "3      0            113803  53.1000  C123        S  \n",
       "4      0            373450   8.0500   NaN        S  "
      ]
     },
     "execution_count": 2,
     "metadata": {},
     "output_type": "execute_result"
    }
   ],
   "source": [
    "train = pd.read_csv('https://raw.githubusercontent.com/smcconn5/Portfolio/master/Datasets/Titanic%20Project/train.csv'\n",
    "                    , error_bad_lines=False) #load train dataset\n",
    "test = pd.read_csv('https://raw.githubusercontent.com/smcconn5/Portfolio/master/Datasets/Titanic%20Project/test.csv'\n",
    "                    , error_bad_lines=False) #load test dataset\n",
    "Titanic = pd.concat([train, test],sort=True) #combine the test and train datasets for a consolidated analysis\n",
    "\n",
    "train.head()\n"
   ]
  },
  {
   "cell_type": "markdown",
   "metadata": {},
   "source": [
    "### Visual Analytics\n",
    "Let's start with a visual analysis of some of the metrics. I'll be using Seaborn to create the plots."
   ]
  },
  {
   "cell_type": "code",
   "execution_count": 3,
   "metadata": {},
   "outputs": [
    {
     "data": {
      "image/png": "[encoded data removed]",
      "text/plain": [
       "<Figure size 432x288 with 1 Axes>"
      ]
     },
     "metadata": {
      "needs_background": "light"
     },
     "output_type": "display_data"
    }
   ],
   "source": [
    "#Since the test dataset doesn't include the survived column, we'll perform a survival analysis on the training dataset\n",
    "sns.barplot(x=\"Embarked\", y=\"Survived\", hue=\"Sex\", data=train); "
   ]
  },
  {
   "cell_type": "code",
   "execution_count": 4,
   "metadata": {},
   "outputs": [
    {
     "data": {
      "image/png": "[encoded data removed]",
      "text/plain": [
       "<Figure size 432x288 with 1 Axes>"
      ]
     },
     "metadata": {
      "needs_background": "light"
     },
     "output_type": "display_data"
    }
   ],
   "source": [
    "#Since the test dataset doesn't include the survived column, we'll perform a survival analysis on the training dataset\n",
    "#Let's create a category variable to show if the passenger was a child or not base on the age (less than 18).\n",
    "train.loc[train['Age'] < 18, 'Age2'] = 'Child' \n",
    "train.loc[train['Age'] >= 18, 'Age2'] = 'Adult'\n",
    "test.loc[test['Age'] < 18, 'Age2'] = 'Child' \n",
    "test.loc[test['Age'] >= 18, 'Age2'] = 'Adult' \n",
    "sns.barplot(x=\"Embarked\", y=\"Survived\", hue=\"Age2\", data=train);"
   ]
  },
  {
   "cell_type": "markdown",
   "metadata": {},
   "source": [
    "#### We can see that women's survival rates far exceeded the men's survival rate, which means that passengers onboard the Titanic did in fact abide by the Birkenhead Drill, or Women and Children first."
   ]
  },
  {
   "cell_type": "code",
   "execution_count": 5,
   "metadata": {},
   "outputs": [
    {
     "data": {
      "text/plain": [
       "<matplotlib.axes._subplots.AxesSubplot at 0x1fe32665908>"
      ]
     },
     "execution_count": 5,
     "metadata": {},
     "output_type": "execute_result"
    },
    {
     "data": {
      "image/png": "[encoded data removed]",
      "text/plain": [
       "<Figure size 432x288 with 1 Axes>"
      ]
     },
     "metadata": {
      "needs_background": "light"
     },
     "output_type": "display_data"
    }
   ],
   "source": [
    "sns.countplot(x=\"Pclass\", data=Titanic)\n",
    "#Majority of the passengers were third class, the 2nd most passengers were first class\n",
    "#and the least passengers were second class."
   ]
  },
  {
   "cell_type": "code",
   "execution_count": 6,
   "metadata": {},
   "outputs": [
    {
     "data": {
      "text/plain": [
       "<matplotlib.axes._subplots.AxesSubplot at 0x1fe326bc248>"
      ]
     },
     "execution_count": 6,
     "metadata": {},
     "output_type": "execute_result"
    },
    {
     "data": {
      "image/png": "[encoded data removed]",
      "text/plain": [
       "<Figure size 432x288 with 1 Axes>"
      ]
     },
     "metadata": {
      "needs_background": "light"
     },
     "output_type": "display_data"
    }
   ],
   "source": [
    "sns.countplot(x=\"Embarked\", data=Titanic)\n",
    "#Majority of passengers came from Southampton"
   ]
  },
  {
   "cell_type": "code",
   "execution_count": 7,
   "metadata": {},
   "outputs": [
    {
     "data": {
      "text/plain": [
       "<matplotlib.axes._subplots.AxesSubplot at 0x1fe3272a148>"
      ]
     },
     "execution_count": 7,
     "metadata": {},
     "output_type": "execute_result"
    },
    {
     "data": {
      "image/png": "[encoded data removed]",
      "text/plain": [
       "<Figure size 432x288 with 1 Axes>"
      ]
     },
     "metadata": {
      "needs_background": "light"
     },
     "output_type": "display_data"
    }
   ],
   "source": [
    "sns.countplot(x=\"Parch\", data=Titanic)\n",
    "#Majority of passengers were travelling without parents or children"
   ]
  },
  {
   "cell_type": "code",
   "execution_count": 8,
   "metadata": {},
   "outputs": [
    {
     "data": {
      "text/plain": [
       "<matplotlib.axes._subplots.AxesSubplot at 0x1fe3258ab88>"
      ]
     },
     "execution_count": 8,
     "metadata": {},
     "output_type": "execute_result"
    },
    {
     "data": {
      "image/png": "[encoded data removed]",
      "text/plain": [
       "<Figure size 432x288 with 1 Axes>"
      ]
     },
     "metadata": {
      "needs_background": "light"
     },
     "output_type": "display_data"
    }
   ],
   "source": [
    "sns.countplot(x=\"SibSp\", data=Titanic)\n",
    "#Majority of passengers were travelling without siblings and spouses"
   ]
  },
  {
   "cell_type": "code",
   "execution_count": 9,
   "metadata": {},
   "outputs": [
    {
     "data": {
      "text/plain": [
       "<matplotlib.axes._subplots.AxesSubplot at 0x1fe3260bb48>"
      ]
     },
     "execution_count": 9,
     "metadata": {},
     "output_type": "execute_result"
    },
    {
     "data": {
      "image/png": "[encoded data removed]",
      "text/plain": [
       "<Figure size 432x288 with 1 Axes>"
      ]
     },
     "metadata": {
      "needs_background": "light"
     },
     "output_type": "display_data"
    }
   ],
   "source": [
    "sns.countplot(x=\"Sex\", data=Titanic)\n",
    "#Majority of passengers were male"
   ]
  },
  {
   "cell_type": "code",
   "execution_count": 10,
   "metadata": {},
   "outputs": [
    {
     "data": {
      "text/plain": [
       "count    1308.000000\n",
       "mean       33.295479\n",
       "std        51.758668\n",
       "min         0.000000\n",
       "25%         7.895800\n",
       "50%        14.454200\n",
       "75%        31.275000\n",
       "max       512.329200\n",
       "Name: Fare, dtype: float64"
      ]
     },
     "execution_count": 10,
     "metadata": {},
     "output_type": "execute_result"
    },
    {
     "data": {
      "image/png": "[encoded data removed]",
      "text/plain": [
       "<Figure size 432x288 with 1 Axes>"
      ]
     },
     "metadata": {
      "needs_background": "light"
     },
     "output_type": "display_data"
    }
   ],
   "source": [
    "sns.countplot(x=\"Fare\", data=Titanic)\n",
    "Titanic['Fare'].describe()\n",
    "#There's a wide range of fares that were paid, with the highest being a hefty $512. Inspecting the plot below shows that the\n",
    "#majority of passengers had a fare of ~$15 or less."
   ]
  },
  {
   "cell_type": "markdown",
   "metadata": {},
   "source": [
    "### Data wrangling and correction\n",
    "Let's actually inspect the data and see if there's anything we need to correct before beginning the machine learning procedures."
   ]
  },
  {
   "cell_type": "code",
   "execution_count": 11,
   "metadata": {},
   "outputs": [
    {
     "name": "stdout",
     "output_type": "stream",
     "text": [
      "(891, 13)\n",
      "(418, 12)\n",
      "(1309, 12)\n",
      "<class 'pandas.core.frame.DataFrame'>\n",
      "RangeIndex: 891 entries, 0 to 890\n",
      "Data columns (total 13 columns):\n",
      "PassengerId    891 non-null int64\n",
      "Survived       891 non-null int64\n",
      "Pclass         891 non-null int64\n",
      "Name           891 non-null object\n",
      "Sex            891 non-null object\n",
      "Age            714 non-null float64\n",
      "SibSp          891 non-null int64\n",
      "Parch          891 non-null int64\n",
      "Ticket         891 non-null object\n",
      "Fare           891 non-null float64\n",
      "Cabin          204 non-null object\n",
      "Embarked       889 non-null object\n",
      "Age2           714 non-null object\n",
      "dtypes: float64(2), int64(5), object(6)\n",
      "memory usage: 90.6+ KB\n",
      "None\n",
      "<class 'pandas.core.frame.DataFrame'>\n",
      "RangeIndex: 418 entries, 0 to 417\n",
      "Data columns (total 12 columns):\n",
      "PassengerId    418 non-null int64\n",
      "Pclass         418 non-null int64\n",
      "Name           418 non-null object\n",
      "Sex            418 non-null object\n",
      "Age            332 non-null float64\n",
      "SibSp          418 non-null int64\n",
      "Parch          418 non-null int64\n",
      "Ticket         418 non-null object\n",
      "Fare           417 non-null float64\n",
      "Cabin          91 non-null object\n",
      "Embarked       418 non-null object\n",
      "Age2           332 non-null object\n",
      "dtypes: float64(2), int64(4), object(6)\n",
      "memory usage: 39.3+ KB\n",
      "None\n"
     ]
    }
   ],
   "source": [
    "print(train.shape)\n",
    "print(test.shape)\n",
    "print(Titanic.shape)\n",
    "print(train.info())\n",
    "print(test.info())\n",
    "#There's a significant number of missing cabin numbers. Age is also problematic because it's missing almost 200 observations.\n",
    "#Embarked is only missing 2 observations\n",
    "#We're missing a few age and 1 fare in the test data as well. We'll have to impute those as well."
   ]
  },
  {
   "cell_type": "code",
   "execution_count": 12,
   "metadata": {},
   "outputs": [
    {
     "name": "stdout",
     "output_type": "stream",
     "text": [
      "<class 'pandas.core.frame.DataFrame'>\n",
      "RangeIndex: 891 entries, 0 to 890\n",
      "Data columns (total 12 columns):\n",
      "PassengerId    891 non-null int64\n",
      "Survived       891 non-null int64\n",
      "Pclass         891 non-null int64\n",
      "Name           891 non-null object\n",
      "Sex            891 non-null object\n",
      "Age            891 non-null float64\n",
      "SibSp          891 non-null int64\n",
      "Parch          891 non-null int64\n",
      "Ticket         891 non-null object\n",
      "Fare           891 non-null float64\n",
      "Embarked       891 non-null object\n",
      "Age2           891 non-null object\n",
      "dtypes: float64(2), int64(5), object(5)\n",
      "memory usage: 83.7+ KB\n",
      "None\n",
      "<class 'pandas.core.frame.DataFrame'>\n",
      "RangeIndex: 418 entries, 0 to 417\n",
      "Data columns (total 11 columns):\n",
      "PassengerId    418 non-null int64\n",
      "Pclass         418 non-null int64\n",
      "Name           418 non-null object\n",
      "Sex            418 non-null object\n",
      "Age            418 non-null float64\n",
      "SibSp          418 non-null int64\n",
      "Parch          418 non-null int64\n",
      "Ticket         418 non-null object\n",
      "Fare           418 non-null float64\n",
      "Embarked       418 non-null object\n",
      "Age2           418 non-null object\n",
      "dtypes: float64(2), int64(4), object(5)\n",
      "memory usage: 36.0+ KB\n",
      "None\n"
     ]
    }
   ],
   "source": [
    "#To correct for age, we'll replace the null values with the mean age of the passengers.\n",
    "train['Age'] = train['Age'].fillna(train['Age'].mean())\n",
    "test['Age'] = test['Age'].fillna(test['Age'].mean())\n",
    "#Since we replaced the null values with the mean age, we'll need to reassess the child/adult transformation from above\n",
    "train.loc[train['Age'] < 18, 'Age2'] = 'Child' \n",
    "train.loc[train['Age'] >= 18, 'Age2'] = 'Adult' \n",
    "test.loc[test['Age'] < 18, 'Age2'] = 'Child' \n",
    "test.loc[test['Age'] >= 18, 'Age2'] = 'Adult'\n",
    "#To correct for cabin, we'll make a judgement call and replace the null values with 'S' since most passengers came from Southampton\n",
    "train['Embarked'] = train['Embarked'].fillna('S')\n",
    "#To correct for fare in the test set, we'll replace the null value with the mean fare.\n",
    "test['Fare'] = test['Fare'].fillna(test['Fare'].mean())\n",
    "\n",
    "\n",
    "#As much as I would love to correct the cabin data, there's no good way to replace the null values. \n",
    "del train['Cabin']\n",
    "del test['Cabin']\n",
    "print(train.info())\n",
    "print(test.info())"
   ]
  },
  {
   "cell_type": "markdown",
   "metadata": {},
   "source": [
    "#### Let's change some of these categorical variables into numerical to boost the performance of the models."
   ]
  },
  {
   "cell_type": "code",
   "execution_count": 13,
   "metadata": {},
   "outputs": [],
   "source": [
    "train['Sex'].replace('female', 0, inplace=True)\n",
    "train['Sex'].replace('male', 1, inplace=True)\n",
    "test['Sex'].replace('female', 0, inplace=True)\n",
    "test['Sex'].replace('male', 1, inplace=True)\n",
    "\n",
    "train.loc[train['Embarked'] == 'S', 'Southampton'] = 1 \n",
    "train.loc[train['Embarked'] != 'S', 'Southampton'] = 0\n",
    "train.loc[train['Embarked'] == 'Q', 'Queenstown'] = 1 \n",
    "train.loc[train['Embarked'] != 'Q', 'Queenstown'] = 0\n",
    "test.loc[train['Embarked'] == 'S', 'Southampton'] = 1 \n",
    "test.loc[train['Embarked'] != 'S', 'Southampton'] = 0\n",
    "test.loc[train['Embarked'] == 'Q', 'Queenstown'] = 1 \n",
    "test.loc[train['Embarked'] != 'Q', 'Queenstown'] = 0\n",
    "train.loc[train['Embarked'] == 'C', 'Cherbourg'] = 1 \n",
    "train.loc[train['Embarked'] != 'C', 'Cherbourg'] = 0\n",
    "test.loc[train['Embarked'] == 'C', 'Cherbourg'] = 1 \n",
    "test.loc[train['Embarked'] != 'C', 'Cherbourg'] = 0\n",
    "\n",
    "train['Age2'].replace('Child', 0, inplace=True)\n",
    "train['Age2'].replace('Adult', 1, inplace=True)\n",
    "test['Age2'].replace('Child', 0, inplace=True)\n",
    "test['Age2'].replace('Adult', 1, inplace=True)"
   ]
  },
  {
   "cell_type": "markdown",
   "metadata": {},
   "source": [
    "#### Let's change the SibSp and Parch fields. By combining them and adding 1 to account for the passenger, we can calculate the family size"
   ]
  },
  {
   "cell_type": "code",
   "execution_count": 14,
   "metadata": {},
   "outputs": [
    {
     "data": {
      "text/html": [
       "<div>\n",
       "<style scoped>\n",
       "    .dataframe tbody tr th:only-of-type {\n",
       "        vertical-align: middle;\n",
       "    }\n",
       "\n",
       "    .dataframe tbody tr th {\n",
       "        vertical-align: top;\n",
       "    }\n",
       "\n",
       "    .dataframe thead th {\n",
       "        text-align: right;\n",
       "    }\n",
       "</style>\n",
       "<table border=\"1\" class=\"dataframe\">\n",
       "  <thead>\n",
       "    <tr style=\"text-align: right;\">\n",
       "      <th></th>\n",
       "      <th>Survived</th>\n",
       "      <th>Pclass</th>\n",
       "      <th>Sex</th>\n",
       "      <th>Age</th>\n",
       "      <th>Fare</th>\n",
       "      <th>Age2</th>\n",
       "      <th>Southampton</th>\n",
       "      <th>Queenstown</th>\n",
       "      <th>Cherbourg</th>\n",
       "      <th>FamilySize</th>\n",
       "    </tr>\n",
       "  </thead>\n",
       "  <tbody>\n",
       "    <tr>\n",
       "      <td>0</td>\n",
       "      <td>0</td>\n",
       "      <td>3</td>\n",
       "      <td>1</td>\n",
       "      <td>22.0</td>\n",
       "      <td>7.2500</td>\n",
       "      <td>1</td>\n",
       "      <td>1.0</td>\n",
       "      <td>0.0</td>\n",
       "      <td>0.0</td>\n",
       "      <td>2</td>\n",
       "    </tr>\n",
       "    <tr>\n",
       "      <td>1</td>\n",
       "      <td>1</td>\n",
       "      <td>1</td>\n",
       "      <td>0</td>\n",
       "      <td>38.0</td>\n",
       "      <td>71.2833</td>\n",
       "      <td>1</td>\n",
       "      <td>0.0</td>\n",
       "      <td>0.0</td>\n",
       "      <td>1.0</td>\n",
       "      <td>2</td>\n",
       "    </tr>\n",
       "    <tr>\n",
       "      <td>2</td>\n",
       "      <td>1</td>\n",
       "      <td>3</td>\n",
       "      <td>0</td>\n",
       "      <td>26.0</td>\n",
       "      <td>7.9250</td>\n",
       "      <td>1</td>\n",
       "      <td>1.0</td>\n",
       "      <td>0.0</td>\n",
       "      <td>0.0</td>\n",
       "      <td>1</td>\n",
       "    </tr>\n",
       "    <tr>\n",
       "      <td>3</td>\n",
       "      <td>1</td>\n",
       "      <td>1</td>\n",
       "      <td>0</td>\n",
       "      <td>35.0</td>\n",
       "      <td>53.1000</td>\n",
       "      <td>1</td>\n",
       "      <td>1.0</td>\n",
       "      <td>0.0</td>\n",
       "      <td>0.0</td>\n",
       "      <td>2</td>\n",
       "    </tr>\n",
       "    <tr>\n",
       "      <td>4</td>\n",
       "      <td>0</td>\n",
       "      <td>3</td>\n",
       "      <td>1</td>\n",
       "      <td>35.0</td>\n",
       "      <td>8.0500</td>\n",
       "      <td>1</td>\n",
       "      <td>1.0</td>\n",
       "      <td>0.0</td>\n",
       "      <td>0.0</td>\n",
       "      <td>1</td>\n",
       "    </tr>\n",
       "  </tbody>\n",
       "</table>\n",
       "</div>"
      ],
      "text/plain": [
       "   Survived  Pclass  Sex   Age     Fare  Age2  Southampton  Queenstown  \\\n",
       "0         0       3    1  22.0   7.2500     1          1.0         0.0   \n",
       "1         1       1    0  38.0  71.2833     1          0.0         0.0   \n",
       "2         1       3    0  26.0   7.9250     1          1.0         0.0   \n",
       "3         1       1    0  35.0  53.1000     1          1.0         0.0   \n",
       "4         0       3    1  35.0   8.0500     1          1.0         0.0   \n",
       "\n",
       "   Cherbourg  FamilySize  \n",
       "0        0.0           2  \n",
       "1        1.0           2  \n",
       "2        0.0           1  \n",
       "3        0.0           2  \n",
       "4        0.0           1  "
      ]
     },
     "execution_count": 14,
     "metadata": {},
     "output_type": "execute_result"
    }
   ],
   "source": [
    "train['FamilySize'] = train['SibSp'] + train['Parch'] + 1\n",
    "test['FamilySize'] = test['SibSp'] + test['Parch'] + 1\n",
    "\n",
    "train = train.drop(['SibSp','Parch', 'Embarked', 'Ticket', 'Name','PassengerId'], axis=1)\n",
    "test = test.drop(['SibSp','Parch','Embarked', 'Ticket', 'Name'], axis=1)\n",
    "\n",
    "train.head()"
   ]
  },
  {
   "cell_type": "code",
   "execution_count": 15,
   "metadata": {},
   "outputs": [
    {
     "data": {
      "text/html": [
       "<div>\n",
       "<style scoped>\n",
       "    .dataframe tbody tr th:only-of-type {\n",
       "        vertical-align: middle;\n",
       "    }\n",
       "\n",
       "    .dataframe tbody tr th {\n",
       "        vertical-align: top;\n",
       "    }\n",
       "\n",
       "    .dataframe thead th {\n",
       "        text-align: right;\n",
       "    }\n",
       "</style>\n",
       "<table border=\"1\" class=\"dataframe\">\n",
       "  <thead>\n",
       "    <tr style=\"text-align: right;\">\n",
       "      <th></th>\n",
       "      <th>PassengerId</th>\n",
       "      <th>Pclass</th>\n",
       "      <th>Sex</th>\n",
       "      <th>Age</th>\n",
       "      <th>Fare</th>\n",
       "      <th>Age2</th>\n",
       "      <th>Southampton</th>\n",
       "      <th>Queenstown</th>\n",
       "      <th>Cherbourg</th>\n",
       "      <th>FamilySize</th>\n",
       "    </tr>\n",
       "  </thead>\n",
       "  <tbody>\n",
       "    <tr>\n",
       "      <td>0</td>\n",
       "      <td>892</td>\n",
       "      <td>3</td>\n",
       "      <td>1</td>\n",
       "      <td>34.5</td>\n",
       "      <td>7.8292</td>\n",
       "      <td>1</td>\n",
       "      <td>1.0</td>\n",
       "      <td>0.0</td>\n",
       "      <td>0.0</td>\n",
       "      <td>1</td>\n",
       "    </tr>\n",
       "    <tr>\n",
       "      <td>1</td>\n",
       "      <td>893</td>\n",
       "      <td>3</td>\n",
       "      <td>0</td>\n",
       "      <td>47.0</td>\n",
       "      <td>7.0000</td>\n",
       "      <td>1</td>\n",
       "      <td>0.0</td>\n",
       "      <td>0.0</td>\n",
       "      <td>1.0</td>\n",
       "      <td>2</td>\n",
       "    </tr>\n",
       "    <tr>\n",
       "      <td>2</td>\n",
       "      <td>894</td>\n",
       "      <td>2</td>\n",
       "      <td>1</td>\n",
       "      <td>62.0</td>\n",
       "      <td>9.6875</td>\n",
       "      <td>1</td>\n",
       "      <td>1.0</td>\n",
       "      <td>0.0</td>\n",
       "      <td>0.0</td>\n",
       "      <td>1</td>\n",
       "    </tr>\n",
       "    <tr>\n",
       "      <td>3</td>\n",
       "      <td>895</td>\n",
       "      <td>3</td>\n",
       "      <td>1</td>\n",
       "      <td>27.0</td>\n",
       "      <td>8.6625</td>\n",
       "      <td>1</td>\n",
       "      <td>1.0</td>\n",
       "      <td>0.0</td>\n",
       "      <td>0.0</td>\n",
       "      <td>1</td>\n",
       "    </tr>\n",
       "    <tr>\n",
       "      <td>4</td>\n",
       "      <td>896</td>\n",
       "      <td>3</td>\n",
       "      <td>0</td>\n",
       "      <td>22.0</td>\n",
       "      <td>12.2875</td>\n",
       "      <td>1</td>\n",
       "      <td>1.0</td>\n",
       "      <td>0.0</td>\n",
       "      <td>0.0</td>\n",
       "      <td>3</td>\n",
       "    </tr>\n",
       "  </tbody>\n",
       "</table>\n",
       "</div>"
      ],
      "text/plain": [
       "   PassengerId  Pclass  Sex   Age     Fare  Age2  Southampton  Queenstown  \\\n",
       "0          892       3    1  34.5   7.8292     1          1.0         0.0   \n",
       "1          893       3    0  47.0   7.0000     1          0.0         0.0   \n",
       "2          894       2    1  62.0   9.6875     1          1.0         0.0   \n",
       "3          895       3    1  27.0   8.6625     1          1.0         0.0   \n",
       "4          896       3    0  22.0  12.2875     1          1.0         0.0   \n",
       "\n",
       "   Cherbourg  FamilySize  \n",
       "0        0.0           1  \n",
       "1        1.0           2  \n",
       "2        0.0           1  \n",
       "3        0.0           1  \n",
       "4        0.0           3  "
      ]
     },
     "execution_count": 15,
     "metadata": {},
     "output_type": "execute_result"
    }
   ],
   "source": [
    "test.head()"
   ]
  },
  {
   "cell_type": "markdown",
   "metadata": {},
   "source": [
    "#### Now that the variables are setup to be numeric, let's look at a correlation of the data to see which variables are significant"
   ]
  },
  {
   "cell_type": "code",
   "execution_count": 16,
   "metadata": {},
   "outputs": [
    {
     "data": {
      "text/html": [
       "<style  type=\"text/css\" >\n",
       "    #T_4f420c3e_c530_11ea_9075_24ee9ae76af7row0_col0 {\n",
       "            background-color:  #b40426;\n",
       "            color:  #f1f1f1;\n",
       "        }    #T_4f420c3e_c530_11ea_9075_24ee9ae76af7row0_col1 {\n",
       "            background-color:  #6485ec;\n",
       "            color:  #000000;\n",
       "        }    #T_4f420c3e_c530_11ea_9075_24ee9ae76af7row0_col2 {\n",
       "            background-color:  #3b4cc0;\n",
       "            color:  #f1f1f1;\n",
       "        }    #T_4f420c3e_c530_11ea_9075_24ee9ae76af7row0_col3 {\n",
       "            background-color:  #7a9df8;\n",
       "            color:  #000000;\n",
       "        }    #T_4f420c3e_c530_11ea_9075_24ee9ae76af7row0_col4 {\n",
       "            background-color:  #e2dad5;\n",
       "            color:  #000000;\n",
       "        }    #T_4f420c3e_c530_11ea_9075_24ee9ae76af7row0_col5 {\n",
       "            background-color:  #7699f6;\n",
       "            color:  #000000;\n",
       "        }    #T_4f420c3e_c530_11ea_9075_24ee9ae76af7row0_col6 {\n",
       "            background-color:  #b1cbfc;\n",
       "            color:  #000000;\n",
       "        }    #T_4f420c3e_c530_11ea_9075_24ee9ae76af7row0_col7 {\n",
       "            background-color:  #aac7fd;\n",
       "            color:  #000000;\n",
       "        }    #T_4f420c3e_c530_11ea_9075_24ee9ae76af7row0_col8 {\n",
       "            background-color:  #e5d8d1;\n",
       "            color:  #000000;\n",
       "        }    #T_4f420c3e_c530_11ea_9075_24ee9ae76af7row0_col9 {\n",
       "            background-color:  #9abbff;\n",
       "            color:  #000000;\n",
       "        }    #T_4f420c3e_c530_11ea_9075_24ee9ae76af7row1_col0 {\n",
       "            background-color:  #6384eb;\n",
       "            color:  #000000;\n",
       "        }    #T_4f420c3e_c530_11ea_9075_24ee9ae76af7row1_col1 {\n",
       "            background-color:  #b40426;\n",
       "            color:  #f1f1f1;\n",
       "        }    #T_4f420c3e_c530_11ea_9075_24ee9ae76af7row1_col2 {\n",
       "            background-color:  #ccd9ed;\n",
       "            color:  #000000;\n",
       "        }    #T_4f420c3e_c530_11ea_9075_24ee9ae76af7row1_col3 {\n",
       "            background-color:  #3b4cc0;\n",
       "            color:  #f1f1f1;\n",
       "        }    #T_4f420c3e_c530_11ea_9075_24ee9ae76af7row1_col4 {\n",
       "            background-color:  #3b4cc0;\n",
       "            color:  #f1f1f1;\n",
       "        }    #T_4f420c3e_c530_11ea_9075_24ee9ae76af7row1_col5 {\n",
       "            background-color:  #7699f6;\n",
       "            color:  #000000;\n",
       "        }    #T_4f420c3e_c530_11ea_9075_24ee9ae76af7row1_col6 {\n",
       "            background-color:  #d8dce2;\n",
       "            color:  #000000;\n",
       "        }    #T_4f420c3e_c530_11ea_9075_24ee9ae76af7row1_col7 {\n",
       "            background-color:  #d8dce2;\n",
       "            color:  #000000;\n",
       "        }    #T_4f420c3e_c530_11ea_9075_24ee9ae76af7row1_col8 {\n",
       "            background-color:  #9fbfff;\n",
       "            color:  #000000;\n",
       "        }    #T_4f420c3e_c530_11ea_9075_24ee9ae76af7row1_col9 {\n",
       "            background-color:  #a6c4fe;\n",
       "            color:  #000000;\n",
       "        }    #T_4f420c3e_c530_11ea_9075_24ee9ae76af7row2_col0 {\n",
       "            background-color:  #3b4cc0;\n",
       "            color:  #f1f1f1;\n",
       "        }    #T_4f420c3e_c530_11ea_9075_24ee9ae76af7row2_col1 {\n",
       "            background-color:  #ccd9ed;\n",
       "            color:  #000000;\n",
       "        }    #T_4f420c3e_c530_11ea_9075_24ee9ae76af7row2_col2 {\n",
       "            background-color:  #b40426;\n",
       "            color:  #f1f1f1;\n",
       "        }    #T_4f420c3e_c530_11ea_9075_24ee9ae76af7row2_col3 {\n",
       "            background-color:  #a2c1ff;\n",
       "            color:  #000000;\n",
       "        }    #T_4f420c3e_c530_11ea_9075_24ee9ae76af7row2_col4 {\n",
       "            background-color:  #88abfd;\n",
       "            color:  #000000;\n",
       "        }    #T_4f420c3e_c530_11ea_9075_24ee9ae76af7row2_col5 {\n",
       "            background-color:  #b1cbfc;\n",
       "            color:  #000000;\n",
       "        }    #T_4f420c3e_c530_11ea_9075_24ee9ae76af7row2_col6 {\n",
       "            background-color:  #dedcdb;\n",
       "            color:  #000000;\n",
       "        }    #T_4f420c3e_c530_11ea_9075_24ee9ae76af7row2_col7 {\n",
       "            background-color:  #98b9ff;\n",
       "            color:  #000000;\n",
       "        }    #T_4f420c3e_c530_11ea_9075_24ee9ae76af7row2_col8 {\n",
       "            background-color:  #bed2f6;\n",
       "            color:  #000000;\n",
       "        }    #T_4f420c3e_c530_11ea_9075_24ee9ae76af7row2_col9 {\n",
       "            background-color:  #6384eb;\n",
       "            color:  #000000;\n",
       "        }    #T_4f420c3e_c530_11ea_9075_24ee9ae76af7row3_col0 {\n",
       "            background-color:  #a1c0ff;\n",
       "            color:  #000000;\n",
       "        }    #T_4f420c3e_c530_11ea_9075_24ee9ae76af7row3_col1 {\n",
       "            background-color:  #6788ee;\n",
       "            color:  #000000;\n",
       "        }    #T_4f420c3e_c530_11ea_9075_24ee9ae76af7row3_col2 {\n",
       "            background-color:  #c3d5f4;\n",
       "            color:  #000000;\n",
       "        }    #T_4f420c3e_c530_11ea_9075_24ee9ae76af7row3_col3 {\n",
       "            background-color:  #b40426;\n",
       "            color:  #f1f1f1;\n",
       "        }    #T_4f420c3e_c530_11ea_9075_24ee9ae76af7row3_col4 {\n",
       "            background-color:  #c4d5f3;\n",
       "            color:  #000000;\n",
       "        }    #T_4f420c3e_c530_11ea_9075_24ee9ae76af7row3_col5 {\n",
       "            background-color:  #f7a889;\n",
       "            color:  #000000;\n",
       "        }    #T_4f420c3e_c530_11ea_9075_24ee9ae76af7row3_col6 {\n",
       "            background-color:  #c9d7f0;\n",
       "            color:  #000000;\n",
       "        }    #T_4f420c3e_c530_11ea_9075_24ee9ae76af7row3_col7 {\n",
       "            background-color:  #a6c4fe;\n",
       "            color:  #000000;\n",
       "        }    #T_4f420c3e_c530_11ea_9075_24ee9ae76af7row3_col8 {\n",
       "            background-color:  #d1dae9;\n",
       "            color:  #000000;\n",
       "        }    #T_4f420c3e_c530_11ea_9075_24ee9ae76af7row3_col9 {\n",
       "            background-color:  #5875e1;\n",
       "            color:  #000000;\n",
       "        }    #T_4f420c3e_c530_11ea_9075_24ee9ae76af7row4_col0 {\n",
       "            background-color:  #e1dad6;\n",
       "            color:  #000000;\n",
       "        }    #T_4f420c3e_c530_11ea_9075_24ee9ae76af7row4_col1 {\n",
       "            background-color:  #3b4cc0;\n",
       "            color:  #f1f1f1;\n",
       "        }    #T_4f420c3e_c530_11ea_9075_24ee9ae76af7row4_col2 {\n",
       "            background-color:  #86a9fc;\n",
       "            color:  #000000;\n",
       "        }    #T_4f420c3e_c530_11ea_9075_24ee9ae76af7row4_col3 {\n",
       "            background-color:  #a5c3fe;\n",
       "            color:  #000000;\n",
       "        }    #T_4f420c3e_c530_11ea_9075_24ee9ae76af7row4_col4 {\n",
       "            background-color:  #b40426;\n",
       "            color:  #f1f1f1;\n",
       "        }    #T_4f420c3e_c530_11ea_9075_24ee9ae76af7row4_col5 {\n",
       "            background-color:  #97b8ff;\n",
       "            color:  #000000;\n",
       "        }    #T_4f420c3e_c530_11ea_9075_24ee9ae76af7row4_col6 {\n",
       "            background-color:  #afcafc;\n",
       "            color:  #000000;\n",
       "        }    #T_4f420c3e_c530_11ea_9075_24ee9ae76af7row4_col7 {\n",
       "            background-color:  #8fb1fe;\n",
       "            color:  #000000;\n",
       "        }    #T_4f420c3e_c530_11ea_9075_24ee9ae76af7row4_col8 {\n",
       "            background-color:  #f1cdba;\n",
       "            color:  #000000;\n",
       "        }    #T_4f420c3e_c530_11ea_9075_24ee9ae76af7row4_col9 {\n",
       "            background-color:  #cad8ef;\n",
       "            color:  #000000;\n",
       "        }    #T_4f420c3e_c530_11ea_9075_24ee9ae76af7row5_col0 {\n",
       "            background-color:  #94b6ff;\n",
       "            color:  #000000;\n",
       "        }    #T_4f420c3e_c530_11ea_9075_24ee9ae76af7row5_col1 {\n",
       "            background-color:  #96b7ff;\n",
       "            color:  #000000;\n",
       "        }    #T_4f420c3e_c530_11ea_9075_24ee9ae76af7row5_col2 {\n",
       "            background-color:  #c6d6f1;\n",
       "            color:  #000000;\n",
       "        }    #T_4f420c3e_c530_11ea_9075_24ee9ae76af7row5_col3 {\n",
       "            background-color:  #f7aa8c;\n",
       "            color:  #000000;\n",
       "        }    #T_4f420c3e_c530_11ea_9075_24ee9ae76af7row5_col4 {\n",
       "            background-color:  #b3cdfb;\n",
       "            color:  #000000;\n",
       "        }    #T_4f420c3e_c530_11ea_9075_24ee9ae76af7row5_col5 {\n",
       "            background-color:  #b40426;\n",
       "            color:  #f1f1f1;\n",
       "        }    #T_4f420c3e_c530_11ea_9075_24ee9ae76af7row5_col6 {\n",
       "            background-color:  #ccd9ed;\n",
       "            color:  #000000;\n",
       "        }    #T_4f420c3e_c530_11ea_9075_24ee9ae76af7row5_col7 {\n",
       "            background-color:  #b1cbfc;\n",
       "            color:  #000000;\n",
       "        }    #T_4f420c3e_c530_11ea_9075_24ee9ae76af7row5_col8 {\n",
       "            background-color:  #c9d7f0;\n",
       "            color:  #000000;\n",
       "        }    #T_4f420c3e_c530_11ea_9075_24ee9ae76af7row5_col9 {\n",
       "            background-color:  #3b4cc0;\n",
       "            color:  #f1f1f1;\n",
       "        }    #T_4f420c3e_c530_11ea_9075_24ee9ae76af7row6_col0 {\n",
       "            background-color:  #8fb1fe;\n",
       "            color:  #000000;\n",
       "        }    #T_4f420c3e_c530_11ea_9075_24ee9ae76af7row6_col1 {\n",
       "            background-color:  #c1d4f4;\n",
       "            color:  #000000;\n",
       "        }    #T_4f420c3e_c530_11ea_9075_24ee9ae76af7row6_col2 {\n",
       "            background-color:  #c9d7f0;\n",
       "            color:  #000000;\n",
       "        }    #T_4f420c3e_c530_11ea_9075_24ee9ae76af7row6_col3 {\n",
       "            background-color:  #86a9fc;\n",
       "            color:  #000000;\n",
       "        }    #T_4f420c3e_c530_11ea_9075_24ee9ae76af7row6_col4 {\n",
       "            background-color:  #8caffe;\n",
       "            color:  #000000;\n",
       "        }    #T_4f420c3e_c530_11ea_9075_24ee9ae76af7row6_col5 {\n",
       "            background-color:  #96b7ff;\n",
       "            color:  #000000;\n",
       "        }    #T_4f420c3e_c530_11ea_9075_24ee9ae76af7row6_col6 {\n",
       "            background-color:  #b40426;\n",
       "            color:  #f1f1f1;\n",
       "        }    #T_4f420c3e_c530_11ea_9075_24ee9ae76af7row6_col7 {\n",
       "            background-color:  #3b4cc0;\n",
       "            color:  #f1f1f1;\n",
       "        }    #T_4f420c3e_c530_11ea_9075_24ee9ae76af7row6_col8 {\n",
       "            background-color:  #3b4cc0;\n",
       "            color:  #f1f1f1;\n",
       "        }    #T_4f420c3e_c530_11ea_9075_24ee9ae76af7row6_col9 {\n",
       "            background-color:  #a9c6fd;\n",
       "            color:  #000000;\n",
       "        }    #T_4f420c3e_c530_11ea_9075_24ee9ae76af7row7_col0 {\n",
       "            background-color:  #b1cbfc;\n",
       "            color:  #000000;\n",
       "        }    #T_4f420c3e_c530_11ea_9075_24ee9ae76af7row7_col1 {\n",
       "            background-color:  #dcdddd;\n",
       "            color:  #000000;\n",
       "        }    #T_4f420c3e_c530_11ea_9075_24ee9ae76af7row7_col2 {\n",
       "            background-color:  #9fbfff;\n",
       "            color:  #000000;\n",
       "        }    #T_4f420c3e_c530_11ea_9075_24ee9ae76af7row7_col3 {\n",
       "            background-color:  #89acfd;\n",
       "            color:  #000000;\n",
       "        }    #T_4f420c3e_c530_11ea_9075_24ee9ae76af7row7_col4 {\n",
       "            background-color:  #97b8ff;\n",
       "            color:  #000000;\n",
       "        }    #T_4f420c3e_c530_11ea_9075_24ee9ae76af7row7_col5 {\n",
       "            background-color:  #9ebeff;\n",
       "            color:  #000000;\n",
       "        }    #T_4f420c3e_c530_11ea_9075_24ee9ae76af7row7_col6 {\n",
       "            background-color:  #6c8ff1;\n",
       "            color:  #000000;\n",
       "        }    #T_4f420c3e_c530_11ea_9075_24ee9ae76af7row7_col7 {\n",
       "            background-color:  #b40426;\n",
       "            color:  #f1f1f1;\n",
       "        }    #T_4f420c3e_c530_11ea_9075_24ee9ae76af7row7_col8 {\n",
       "            background-color:  #b2ccfb;\n",
       "            color:  #000000;\n",
       "        }    #T_4f420c3e_c530_11ea_9075_24ee9ae76af7row7_col9 {\n",
       "            background-color:  #86a9fc;\n",
       "            color:  #000000;\n",
       "        }    #T_4f420c3e_c530_11ea_9075_24ee9ae76af7row8_col0 {\n",
       "            background-color:  #d3dbe7;\n",
       "            color:  #000000;\n",
       "        }    #T_4f420c3e_c530_11ea_9075_24ee9ae76af7row8_col1 {\n",
       "            background-color:  #7a9df8;\n",
       "            color:  #000000;\n",
       "        }    #T_4f420c3e_c530_11ea_9075_24ee9ae76af7row8_col2 {\n",
       "            background-color:  #9ebeff;\n",
       "            color:  #000000;\n",
       "        }    #T_4f420c3e_c530_11ea_9075_24ee9ae76af7row8_col3 {\n",
       "            background-color:  #94b6ff;\n",
       "            color:  #000000;\n",
       "        }    #T_4f420c3e_c530_11ea_9075_24ee9ae76af7row8_col4 {\n",
       "            background-color:  #e4d9d2;\n",
       "            color:  #000000;\n",
       "        }    #T_4f420c3e_c530_11ea_9075_24ee9ae76af7row8_col5 {\n",
       "            background-color:  #90b2fe;\n",
       "            color:  #000000;\n",
       "        }    #T_4f420c3e_c530_11ea_9075_24ee9ae76af7row8_col6 {\n",
       "            background-color:  #3b4cc0;\n",
       "            color:  #f1f1f1;\n",
       "        }    #T_4f420c3e_c530_11ea_9075_24ee9ae76af7row8_col7 {\n",
       "            background-color:  #86a9fc;\n",
       "            color:  #000000;\n",
       "        }    #T_4f420c3e_c530_11ea_9075_24ee9ae76af7row8_col8 {\n",
       "            background-color:  #b40426;\n",
       "            color:  #f1f1f1;\n",
       "        }    #T_4f420c3e_c530_11ea_9075_24ee9ae76af7row8_col9 {\n",
       "            background-color:  #89acfd;\n",
       "            color:  #000000;\n",
       "        }    #T_4f420c3e_c530_11ea_9075_24ee9ae76af7row9_col0 {\n",
       "            background-color:  #b3cdfb;\n",
       "            color:  #000000;\n",
       "        }    #T_4f420c3e_c530_11ea_9075_24ee9ae76af7row9_col1 {\n",
       "            background-color:  #bfd3f6;\n",
       "            color:  #000000;\n",
       "        }    #T_4f420c3e_c530_11ea_9075_24ee9ae76af7row9_col2 {\n",
       "            background-color:  #82a6fb;\n",
       "            color:  #000000;\n",
       "        }    #T_4f420c3e_c530_11ea_9075_24ee9ae76af7row9_col3 {\n",
       "            background-color:  #4c66d6;\n",
       "            color:  #000000;\n",
       "        }    #T_4f420c3e_c530_11ea_9075_24ee9ae76af7row9_col4 {\n",
       "            background-color:  #dbdcde;\n",
       "            color:  #000000;\n",
       "        }    #T_4f420c3e_c530_11ea_9075_24ee9ae76af7row9_col5 {\n",
       "            background-color:  #3b4cc0;\n",
       "            color:  #f1f1f1;\n",
       "        }    #T_4f420c3e_c530_11ea_9075_24ee9ae76af7row9_col6 {\n",
       "            background-color:  #d8dce2;\n",
       "            color:  #000000;\n",
       "        }    #T_4f420c3e_c530_11ea_9075_24ee9ae76af7row9_col7 {\n",
       "            background-color:  #9dbdff;\n",
       "            color:  #000000;\n",
       "        }    #T_4f420c3e_c530_11ea_9075_24ee9ae76af7row9_col8 {\n",
       "            background-color:  #c4d5f3;\n",
       "            color:  #000000;\n",
       "        }    #T_4f420c3e_c530_11ea_9075_24ee9ae76af7row9_col9 {\n",
       "            background-color:  #b40426;\n",
       "            color:  #f1f1f1;\n",
       "        }</style><table id=\"T_4f420c3e_c530_11ea_9075_24ee9ae76af7\" ><thead>    <tr>        <th class=\"blank level0\" ></th>        <th class=\"col_heading level0 col0\" >Survived</th>        <th class=\"col_heading level0 col1\" >Pclass</th>        <th class=\"col_heading level0 col2\" >Sex</th>        <th class=\"col_heading level0 col3\" >Age</th>        <th class=\"col_heading level0 col4\" >Fare</th>        <th class=\"col_heading level0 col5\" >Age2</th>        <th class=\"col_heading level0 col6\" >Southampton</th>        <th class=\"col_heading level0 col7\" >Queenstown</th>        <th class=\"col_heading level0 col8\" >Cherbourg</th>        <th class=\"col_heading level0 col9\" >FamilySize</th>    </tr></thead><tbody>\n",
       "                <tr>\n",
       "                        <th id=\"T_4f420c3e_c530_11ea_9075_24ee9ae76af7level0_row0\" class=\"row_heading level0 row0\" >Survived</th>\n",
       "                        <td id=\"T_4f420c3e_c530_11ea_9075_24ee9ae76af7row0_col0\" class=\"data row0 col0\" >1</td>\n",
       "                        <td id=\"T_4f420c3e_c530_11ea_9075_24ee9ae76af7row0_col1\" class=\"data row0 col1\" >-0.338481</td>\n",
       "                        <td id=\"T_4f420c3e_c530_11ea_9075_24ee9ae76af7row0_col2\" class=\"data row0 col2\" >-0.543351</td>\n",
       "                        <td id=\"T_4f420c3e_c530_11ea_9075_24ee9ae76af7row0_col3\" class=\"data row0 col3\" >-0.0698085</td>\n",
       "                        <td id=\"T_4f420c3e_c530_11ea_9075_24ee9ae76af7row0_col4\" class=\"data row0 col4\" >0.257307</td>\n",
       "                        <td id=\"T_4f420c3e_c530_11ea_9075_24ee9ae76af7row0_col5\" class=\"data row0 col5\" >-0.122239</td>\n",
       "                        <td id=\"T_4f420c3e_c530_11ea_9075_24ee9ae76af7row0_col6\" class=\"data row0 col6\" >-0.149683</td>\n",
       "                        <td id=\"T_4f420c3e_c530_11ea_9075_24ee9ae76af7row0_col7\" class=\"data row0 col7\" >0.00365038</td>\n",
       "                        <td id=\"T_4f420c3e_c530_11ea_9075_24ee9ae76af7row0_col8\" class=\"data row0 col8\" >0.16824</td>\n",
       "                        <td id=\"T_4f420c3e_c530_11ea_9075_24ee9ae76af7row0_col9\" class=\"data row0 col9\" >0.016639</td>\n",
       "            </tr>\n",
       "            <tr>\n",
       "                        <th id=\"T_4f420c3e_c530_11ea_9075_24ee9ae76af7level0_row1\" class=\"row_heading level0 row1\" >Pclass</th>\n",
       "                        <td id=\"T_4f420c3e_c530_11ea_9075_24ee9ae76af7row1_col0\" class=\"data row1 col0\" >-0.338481</td>\n",
       "                        <td id=\"T_4f420c3e_c530_11ea_9075_24ee9ae76af7row1_col1\" class=\"data row1 col1\" >1</td>\n",
       "                        <td id=\"T_4f420c3e_c530_11ea_9075_24ee9ae76af7row1_col2\" class=\"data row1 col2\" >0.1319</td>\n",
       "                        <td id=\"T_4f420c3e_c530_11ea_9075_24ee9ae76af7row1_col3\" class=\"data row1 col3\" >-0.331339</td>\n",
       "                        <td id=\"T_4f420c3e_c530_11ea_9075_24ee9ae76af7row1_col4\" class=\"data row1 col4\" >-0.5495</td>\n",
       "                        <td id=\"T_4f420c3e_c530_11ea_9075_24ee9ae76af7row1_col5\" class=\"data row1 col5\" >-0.12562</td>\n",
       "                        <td id=\"T_4f420c3e_c530_11ea_9075_24ee9ae76af7row1_col6\" class=\"data row1 col6\" >0.0740528</td>\n",
       "                        <td id=\"T_4f420c3e_c530_11ea_9075_24ee9ae76af7row1_col7\" class=\"data row1 col7\" >0.221009</td>\n",
       "                        <td id=\"T_4f420c3e_c530_11ea_9075_24ee9ae76af7row1_col8\" class=\"data row1 col8\" >-0.243292</td>\n",
       "                        <td id=\"T_4f420c3e_c530_11ea_9075_24ee9ae76af7row1_col9\" class=\"data row1 col9\" >0.0659969</td>\n",
       "            </tr>\n",
       "            <tr>\n",
       "                        <th id=\"T_4f420c3e_c530_11ea_9075_24ee9ae76af7level0_row2\" class=\"row_heading level0 row2\" >Sex</th>\n",
       "                        <td id=\"T_4f420c3e_c530_11ea_9075_24ee9ae76af7row2_col0\" class=\"data row2 col0\" >-0.543351</td>\n",
       "                        <td id=\"T_4f420c3e_c530_11ea_9075_24ee9ae76af7row2_col1\" class=\"data row2 col1\" >0.1319</td>\n",
       "                        <td id=\"T_4f420c3e_c530_11ea_9075_24ee9ae76af7row2_col2\" class=\"data row2 col2\" >1</td>\n",
       "                        <td id=\"T_4f420c3e_c530_11ea_9075_24ee9ae76af7row2_col3\" class=\"data row2 col3\" >0.0841534</td>\n",
       "                        <td id=\"T_4f420c3e_c530_11ea_9075_24ee9ae76af7row2_col4\" class=\"data row2 col4\" >-0.182333</td>\n",
       "                        <td id=\"T_4f420c3e_c530_11ea_9075_24ee9ae76af7row2_col5\" class=\"data row2 col5\" >0.10715</td>\n",
       "                        <td id=\"T_4f420c3e_c530_11ea_9075_24ee9ae76af7row2_col6\" class=\"data row2 col6\" >0.119224</td>\n",
       "                        <td id=\"T_4f420c3e_c530_11ea_9075_24ee9ae76af7row2_col7\" class=\"data row2 col7\" >-0.0741151</td>\n",
       "                        <td id=\"T_4f420c3e_c530_11ea_9075_24ee9ae76af7row2_col8\" class=\"data row2 col8\" >-0.0828535</td>\n",
       "                        <td id=\"T_4f420c3e_c530_11ea_9075_24ee9ae76af7row2_col9\" class=\"data row2 col9\" >-0.200988</td>\n",
       "            </tr>\n",
       "            <tr>\n",
       "                        <th id=\"T_4f420c3e_c530_11ea_9075_24ee9ae76af7level0_row3\" class=\"row_heading level0 row3\" >Age</th>\n",
       "                        <td id=\"T_4f420c3e_c530_11ea_9075_24ee9ae76af7row3_col0\" class=\"data row3 col0\" >-0.0698085</td>\n",
       "                        <td id=\"T_4f420c3e_c530_11ea_9075_24ee9ae76af7row3_col1\" class=\"data row3 col1\" >-0.331339</td>\n",
       "                        <td id=\"T_4f420c3e_c530_11ea_9075_24ee9ae76af7row3_col2\" class=\"data row3 col2\" >0.0841534</td>\n",
       "                        <td id=\"T_4f420c3e_c530_11ea_9075_24ee9ae76af7row3_col3\" class=\"data row3 col3\" >1</td>\n",
       "                        <td id=\"T_4f420c3e_c530_11ea_9075_24ee9ae76af7row3_col4\" class=\"data row3 col4\" >0.0915661</td>\n",
       "                        <td id=\"T_4f420c3e_c530_11ea_9075_24ee9ae76af7row3_col5\" class=\"data row3 col5\" >0.605852</td>\n",
       "                        <td id=\"T_4f420c3e_c530_11ea_9075_24ee9ae76af7row3_col6\" class=\"data row3 col6\" >-0.0193356</td>\n",
       "                        <td id=\"T_4f420c3e_c530_11ea_9075_24ee9ae76af7row3_col7\" class=\"data row3 col7\" >-0.0138552</td>\n",
       "                        <td id=\"T_4f420c3e_c530_11ea_9075_24ee9ae76af7row3_col8\" class=\"data row3 col8\" >0.0320244</td>\n",
       "                        <td id=\"T_4f420c3e_c530_11ea_9075_24ee9ae76af7row3_col9\" class=\"data row3 col9\" >-0.248512</td>\n",
       "            </tr>\n",
       "            <tr>\n",
       "                        <th id=\"T_4f420c3e_c530_11ea_9075_24ee9ae76af7level0_row4\" class=\"row_heading level0 row4\" >Fare</th>\n",
       "                        <td id=\"T_4f420c3e_c530_11ea_9075_24ee9ae76af7row4_col0\" class=\"data row4 col0\" >0.257307</td>\n",
       "                        <td id=\"T_4f420c3e_c530_11ea_9075_24ee9ae76af7row4_col1\" class=\"data row4 col1\" >-0.5495</td>\n",
       "                        <td id=\"T_4f420c3e_c530_11ea_9075_24ee9ae76af7row4_col2\" class=\"data row4 col2\" >-0.182333</td>\n",
       "                        <td id=\"T_4f420c3e_c530_11ea_9075_24ee9ae76af7row4_col3\" class=\"data row4 col3\" >0.0915661</td>\n",
       "                        <td id=\"T_4f420c3e_c530_11ea_9075_24ee9ae76af7row4_col4\" class=\"data row4 col4\" >1</td>\n",
       "                        <td id=\"T_4f420c3e_c530_11ea_9075_24ee9ae76af7row4_col5\" class=\"data row4 col5\" >0.00754621</td>\n",
       "                        <td id=\"T_4f420c3e_c530_11ea_9075_24ee9ae76af7row4_col6\" class=\"data row4 col6\" >-0.162184</td>\n",
       "                        <td id=\"T_4f420c3e_c530_11ea_9075_24ee9ae76af7row4_col7\" class=\"data row4 col7\" >-0.117216</td>\n",
       "                        <td id=\"T_4f420c3e_c530_11ea_9075_24ee9ae76af7row4_col8\" class=\"data row4 col8\" >0.269335</td>\n",
       "                        <td id=\"T_4f420c3e_c530_11ea_9075_24ee9ae76af7row4_col9\" class=\"data row4 col9\" >0.217138</td>\n",
       "            </tr>\n",
       "            <tr>\n",
       "                        <th id=\"T_4f420c3e_c530_11ea_9075_24ee9ae76af7level0_row5\" class=\"row_heading level0 row5\" >Age2</th>\n",
       "                        <td id=\"T_4f420c3e_c530_11ea_9075_24ee9ae76af7row5_col0\" class=\"data row5 col0\" >-0.122239</td>\n",
       "                        <td id=\"T_4f420c3e_c530_11ea_9075_24ee9ae76af7row5_col1\" class=\"data row5 col1\" >-0.12562</td>\n",
       "                        <td id=\"T_4f420c3e_c530_11ea_9075_24ee9ae76af7row5_col2\" class=\"data row5 col2\" >0.10715</td>\n",
       "                        <td id=\"T_4f420c3e_c530_11ea_9075_24ee9ae76af7row5_col3\" class=\"data row5 col3\" >0.605852</td>\n",
       "                        <td id=\"T_4f420c3e_c530_11ea_9075_24ee9ae76af7row5_col4\" class=\"data row5 col4\" >0.00754621</td>\n",
       "                        <td id=\"T_4f420c3e_c530_11ea_9075_24ee9ae76af7row5_col5\" class=\"data row5 col5\" >1</td>\n",
       "                        <td id=\"T_4f420c3e_c530_11ea_9075_24ee9ae76af7row5_col6\" class=\"data row5 col6\" >-0.000542565</td>\n",
       "                        <td id=\"T_4f420c3e_c530_11ea_9075_24ee9ae76af7row5_col7\" class=\"data row5 col7\" >0.0331936</td>\n",
       "                        <td id=\"T_4f420c3e_c530_11ea_9075_24ee9ae76af7row5_col8\" class=\"data row5 col8\" >-0.0232251</td>\n",
       "                        <td id=\"T_4f420c3e_c530_11ea_9075_24ee9ae76af7row5_col9\" class=\"data row5 col9\" >-0.380192</td>\n",
       "            </tr>\n",
       "            <tr>\n",
       "                        <th id=\"T_4f420c3e_c530_11ea_9075_24ee9ae76af7level0_row6\" class=\"row_heading level0 row6\" >Southampton</th>\n",
       "                        <td id=\"T_4f420c3e_c530_11ea_9075_24ee9ae76af7row6_col0\" class=\"data row6 col0\" >-0.149683</td>\n",
       "                        <td id=\"T_4f420c3e_c530_11ea_9075_24ee9ae76af7row6_col1\" class=\"data row6 col1\" >0.0740528</td>\n",
       "                        <td id=\"T_4f420c3e_c530_11ea_9075_24ee9ae76af7row6_col2\" class=\"data row6 col2\" >0.119224</td>\n",
       "                        <td id=\"T_4f420c3e_c530_11ea_9075_24ee9ae76af7row6_col3\" class=\"data row6 col3\" >-0.0193356</td>\n",
       "                        <td id=\"T_4f420c3e_c530_11ea_9075_24ee9ae76af7row6_col4\" class=\"data row6 col4\" >-0.162184</td>\n",
       "                        <td id=\"T_4f420c3e_c530_11ea_9075_24ee9ae76af7row6_col5\" class=\"data row6 col5\" >-0.000542565</td>\n",
       "                        <td id=\"T_4f420c3e_c530_11ea_9075_24ee9ae76af7row6_col6\" class=\"data row6 col6\" >1</td>\n",
       "                        <td id=\"T_4f420c3e_c530_11ea_9075_24ee9ae76af7row6_col7\" class=\"data row6 col7\" >-0.499421</td>\n",
       "                        <td id=\"T_4f420c3e_c530_11ea_9075_24ee9ae76af7row6_col8\" class=\"data row6 col8\" >-0.782742</td>\n",
       "                        <td id=\"T_4f420c3e_c530_11ea_9075_24ee9ae76af7row6_col9\" class=\"data row6 col9\" >0.0773585</td>\n",
       "            </tr>\n",
       "            <tr>\n",
       "                        <th id=\"T_4f420c3e_c530_11ea_9075_24ee9ae76af7level0_row7\" class=\"row_heading level0 row7\" >Queenstown</th>\n",
       "                        <td id=\"T_4f420c3e_c530_11ea_9075_24ee9ae76af7row7_col0\" class=\"data row7 col0\" >0.00365038</td>\n",
       "                        <td id=\"T_4f420c3e_c530_11ea_9075_24ee9ae76af7row7_col1\" class=\"data row7 col1\" >0.221009</td>\n",
       "                        <td id=\"T_4f420c3e_c530_11ea_9075_24ee9ae76af7row7_col2\" class=\"data row7 col2\" >-0.0741151</td>\n",
       "                        <td id=\"T_4f420c3e_c530_11ea_9075_24ee9ae76af7row7_col3\" class=\"data row7 col3\" >-0.0138552</td>\n",
       "                        <td id=\"T_4f420c3e_c530_11ea_9075_24ee9ae76af7row7_col4\" class=\"data row7 col4\" >-0.117216</td>\n",
       "                        <td id=\"T_4f420c3e_c530_11ea_9075_24ee9ae76af7row7_col5\" class=\"data row7 col5\" >0.0331936</td>\n",
       "                        <td id=\"T_4f420c3e_c530_11ea_9075_24ee9ae76af7row7_col6\" class=\"data row7 col6\" >-0.499421</td>\n",
       "                        <td id=\"T_4f420c3e_c530_11ea_9075_24ee9ae76af7row7_col7\" class=\"data row7 col7\" >1</td>\n",
       "                        <td id=\"T_4f420c3e_c530_11ea_9075_24ee9ae76af7row7_col8\" class=\"data row7 col8\" >-0.148258</td>\n",
       "                        <td id=\"T_4f420c3e_c530_11ea_9075_24ee9ae76af7row7_col9\" class=\"data row7 col9\" >-0.0585921</td>\n",
       "            </tr>\n",
       "            <tr>\n",
       "                        <th id=\"T_4f420c3e_c530_11ea_9075_24ee9ae76af7level0_row8\" class=\"row_heading level0 row8\" >Cherbourg</th>\n",
       "                        <td id=\"T_4f420c3e_c530_11ea_9075_24ee9ae76af7row8_col0\" class=\"data row8 col0\" >0.16824</td>\n",
       "                        <td id=\"T_4f420c3e_c530_11ea_9075_24ee9ae76af7row8_col1\" class=\"data row8 col1\" >-0.243292</td>\n",
       "                        <td id=\"T_4f420c3e_c530_11ea_9075_24ee9ae76af7row8_col2\" class=\"data row8 col2\" >-0.0828535</td>\n",
       "                        <td id=\"T_4f420c3e_c530_11ea_9075_24ee9ae76af7row8_col3\" class=\"data row8 col3\" >0.0320244</td>\n",
       "                        <td id=\"T_4f420c3e_c530_11ea_9075_24ee9ae76af7row8_col4\" class=\"data row8 col4\" >0.269335</td>\n",
       "                        <td id=\"T_4f420c3e_c530_11ea_9075_24ee9ae76af7row8_col5\" class=\"data row8 col5\" >-0.0232251</td>\n",
       "                        <td id=\"T_4f420c3e_c530_11ea_9075_24ee9ae76af7row8_col6\" class=\"data row8 col6\" >-0.782742</td>\n",
       "                        <td id=\"T_4f420c3e_c530_11ea_9075_24ee9ae76af7row8_col7\" class=\"data row8 col7\" >-0.148258</td>\n",
       "                        <td id=\"T_4f420c3e_c530_11ea_9075_24ee9ae76af7row8_col8\" class=\"data row8 col8\" >1</td>\n",
       "                        <td id=\"T_4f420c3e_c530_11ea_9075_24ee9ae76af7row8_col9\" class=\"data row8 col9\" >-0.0462153</td>\n",
       "            </tr>\n",
       "            <tr>\n",
       "                        <th id=\"T_4f420c3e_c530_11ea_9075_24ee9ae76af7level0_row9\" class=\"row_heading level0 row9\" >FamilySize</th>\n",
       "                        <td id=\"T_4f420c3e_c530_11ea_9075_24ee9ae76af7row9_col0\" class=\"data row9 col0\" >0.016639</td>\n",
       "                        <td id=\"T_4f420c3e_c530_11ea_9075_24ee9ae76af7row9_col1\" class=\"data row9 col1\" >0.0659969</td>\n",
       "                        <td id=\"T_4f420c3e_c530_11ea_9075_24ee9ae76af7row9_col2\" class=\"data row9 col2\" >-0.200988</td>\n",
       "                        <td id=\"T_4f420c3e_c530_11ea_9075_24ee9ae76af7row9_col3\" class=\"data row9 col3\" >-0.248512</td>\n",
       "                        <td id=\"T_4f420c3e_c530_11ea_9075_24ee9ae76af7row9_col4\" class=\"data row9 col4\" >0.217138</td>\n",
       "                        <td id=\"T_4f420c3e_c530_11ea_9075_24ee9ae76af7row9_col5\" class=\"data row9 col5\" >-0.380192</td>\n",
       "                        <td id=\"T_4f420c3e_c530_11ea_9075_24ee9ae76af7row9_col6\" class=\"data row9 col6\" >0.0773585</td>\n",
       "                        <td id=\"T_4f420c3e_c530_11ea_9075_24ee9ae76af7row9_col7\" class=\"data row9 col7\" >-0.0585921</td>\n",
       "                        <td id=\"T_4f420c3e_c530_11ea_9075_24ee9ae76af7row9_col8\" class=\"data row9 col8\" >-0.0462153</td>\n",
       "                        <td id=\"T_4f420c3e_c530_11ea_9075_24ee9ae76af7row9_col9\" class=\"data row9 col9\" >1</td>\n",
       "            </tr>\n",
       "    </tbody></table>"
      ],
      "text/plain": [
       "<pandas.io.formats.style.Styler at 0x1fe32e614c8>"
      ]
     },
     "execution_count": 16,
     "metadata": {},
     "output_type": "execute_result"
    }
   ],
   "source": [
    "corr = train.corr()\n",
    "corr.style.background_gradient(cmap='coolwarm')"
   ]
  },
  {
   "cell_type": "markdown",
   "metadata": {},
   "source": [
    "## Modeling\n",
    "\n",
    "Since we're trying to predict survival or not (yes or no), this is a  logistic regression and classification problem. \n",
    "\n",
    "- Logistic Regression\n",
    "- k-Nearest Neighbors\n",
    "- Support Vector Machines\n",
    "- Naive Bayes classifier\n",
    "- Decision Tree\n",
    "- Random Forest"
   ]
  },
  {
   "cell_type": "code",
   "execution_count": 17,
   "metadata": {},
   "outputs": [
    {
     "data": {
      "text/plain": [
       "((891, 9), (891,), (418, 9))"
      ]
     },
     "execution_count": 17,
     "metadata": {},
     "output_type": "execute_result"
    }
   ],
   "source": [
    "X_train = train.drop(\"Survived\", axis=1)\n",
    "Y_train = train[\"Survived\"]\n",
    "X_test  = test.drop(\"PassengerId\", axis=1).copy()\n",
    "X_train.shape, Y_train.shape, X_test.shape"
   ]
  },
  {
   "cell_type": "code",
   "execution_count": 18,
   "metadata": {},
   "outputs": [
    {
     "data": {
      "text/plain": [
       "80.58"
      ]
     },
     "execution_count": 18,
     "metadata": {},
     "output_type": "execute_result"
    }
   ],
   "source": [
    "# Logistic Regression\n",
    "\n",
    "logreg = LogisticRegression(solver='liblinear')\n",
    "logreg.fit(X_train, Y_train)\n",
    "Y_pred = logreg.predict(X_test)\n",
    "con_log = round(logreg.score(X_train, Y_train) * 100, 2)\n",
    "con_log\n",
    "\n",
    "#Produces confidence of 80.58%"
   ]
  },
  {
   "cell_type": "code",
   "execution_count": 19,
   "metadata": {},
   "outputs": [
    {
     "data": {
      "text/plain": [
       "87.77"
      ]
     },
     "execution_count": 19,
     "metadata": {},
     "output_type": "execute_result"
    }
   ],
   "source": [
    "# Support Vector Machines\n",
    "\n",
    "svc = SVC(gamma='auto')\n",
    "svc.fit(X_train, Y_train)\n",
    "Y_pred = svc.predict(X_test)\n",
    "con_svc = round(svc.score(X_train, Y_train) * 100, 2)\n",
    "con_svc\n",
    "\n",
    "#Produces confidence of 87.77%"
   ]
  },
  {
   "cell_type": "code",
   "execution_count": 20,
   "metadata": {},
   "outputs": [
    {
     "data": {
      "text/plain": [
       "83.61"
      ]
     },
     "execution_count": 20,
     "metadata": {},
     "output_type": "execute_result"
    }
   ],
   "source": [
    "#KNeighborsClassifier\n",
    "\n",
    "knn = KNeighborsClassifier(n_neighbors = 3)\n",
    "knn.fit(X_train, Y_train)\n",
    "Y_pred = knn.predict(X_test)\n",
    "con_knn = round(knn.score(X_train, Y_train) * 100, 2)\n",
    "con_knn\n",
    "\n",
    "#Produces confidence of 83.61%"
   ]
  },
  {
   "cell_type": "code",
   "execution_count": 21,
   "metadata": {},
   "outputs": [
    {
     "data": {
      "text/plain": [
       "79.8"
      ]
     },
     "execution_count": 21,
     "metadata": {},
     "output_type": "execute_result"
    }
   ],
   "source": [
    "# Gaussian Naive Bayes\n",
    "\n",
    "gaussian = GaussianNB()\n",
    "gaussian.fit(X_train, Y_train)\n",
    "Y_pred = gaussian.predict(X_test)\n",
    "con_gaussian = round(gaussian.score(X_train, Y_train) * 100, 2)\n",
    "con_gaussian\n",
    "\n",
    "#Produces confidence of 79.8$"
   ]
  },
  {
   "cell_type": "code",
   "execution_count": 22,
   "metadata": {},
   "outputs": [
    {
     "name": "stderr",
     "output_type": "stream",
     "text": [
      "C:\\Users\\sean_\\Anaconda3\\lib\\site-packages\\sklearn\\svm\\base.py:929: ConvergenceWarning: Liblinear failed to converge, increase the number of iterations.\n",
      "  \"the number of iterations.\", ConvergenceWarning)\n"
     ]
    },
    {
     "data": {
      "text/plain": [
       "78.11"
      ]
     },
     "execution_count": 22,
     "metadata": {},
     "output_type": "execute_result"
    }
   ],
   "source": [
    "# Linear SVC\n",
    "\n",
    "linear_svc = LinearSVC()\n",
    "linear_svc.fit(X_train, Y_train)\n",
    "Y_pred = linear_svc.predict(X_test)\n",
    "con_linear_svc = round(linear_svc.score(X_train, Y_train) * 100, 2)\n",
    "con_linear_svc\n",
    "\n",
    "#Produces confidence of 70.82%"
   ]
  },
  {
   "cell_type": "code",
   "execution_count": 23,
   "metadata": {},
   "outputs": [
    {
     "data": {
      "text/plain": [
       "98.2"
      ]
     },
     "execution_count": 23,
     "metadata": {},
     "output_type": "execute_result"
    }
   ],
   "source": [
    "# Decision Tree\n",
    "\n",
    "decision_tree = DecisionTreeClassifier()\n",
    "decision_tree.fit(X_train, Y_train)\n",
    "Y_pred = decision_tree.predict(X_test)\n",
    "con_decision_tree = round(decision_tree.score(X_train, Y_train) * 100, 2)\n",
    "con_decision_tree\n",
    "\n",
    "#Produces confidence of 98.2%"
   ]
  },
  {
   "cell_type": "code",
   "execution_count": 24,
   "metadata": {},
   "outputs": [
    {
     "data": {
      "text/plain": [
       "98.2"
      ]
     },
     "execution_count": 24,
     "metadata": {},
     "output_type": "execute_result"
    }
   ],
   "source": [
    "# Random Forest\n",
    "\n",
    "random_forest = RandomForestClassifier(n_estimators=100)\n",
    "random_forest.fit(X_train, Y_train)\n",
    "Y_pred = random_forest.predict(X_test)\n",
    "random_forest.score(X_train, Y_train)\n",
    "con_random_forest = round(random_forest.score(X_train, Y_train) * 100, 2)\n",
    "con_random_forest\n",
    "\n",
    "#Produces confidence of 98.2%"
   ]
  },
  {
   "cell_type": "code",
   "execution_count": 25,
   "metadata": {},
   "outputs": [
    {
     "data": {
      "text/html": [
       "<div>\n",
       "<style scoped>\n",
       "    .dataframe tbody tr th:only-of-type {\n",
       "        vertical-align: middle;\n",
       "    }\n",
       "\n",
       "    .dataframe tbody tr th {\n",
       "        vertical-align: top;\n",
       "    }\n",
       "\n",
       "    .dataframe thead th {\n",
       "        text-align: right;\n",
       "    }\n",
       "</style>\n",
       "<table border=\"1\" class=\"dataframe\">\n",
       "  <thead>\n",
       "    <tr style=\"text-align: right;\">\n",
       "      <th></th>\n",
       "      <th>Model</th>\n",
       "      <th>Score</th>\n",
       "    </tr>\n",
       "  </thead>\n",
       "  <tbody>\n",
       "    <tr>\n",
       "      <td>3</td>\n",
       "      <td>Random Forest</td>\n",
       "      <td>98.20</td>\n",
       "    </tr>\n",
       "    <tr>\n",
       "      <td>6</td>\n",
       "      <td>Decision Tree</td>\n",
       "      <td>98.20</td>\n",
       "    </tr>\n",
       "    <tr>\n",
       "      <td>0</td>\n",
       "      <td>Support Vector Machines</td>\n",
       "      <td>87.77</td>\n",
       "    </tr>\n",
       "    <tr>\n",
       "      <td>1</td>\n",
       "      <td>KNN</td>\n",
       "      <td>83.61</td>\n",
       "    </tr>\n",
       "    <tr>\n",
       "      <td>2</td>\n",
       "      <td>Logistic Regression</td>\n",
       "      <td>80.58</td>\n",
       "    </tr>\n",
       "    <tr>\n",
       "      <td>4</td>\n",
       "      <td>Naive Bayes</td>\n",
       "      <td>79.80</td>\n",
       "    </tr>\n",
       "    <tr>\n",
       "      <td>5</td>\n",
       "      <td>Linear SVC</td>\n",
       "      <td>78.11</td>\n",
       "    </tr>\n",
       "  </tbody>\n",
       "</table>\n",
       "</div>"
      ],
      "text/plain": [
       "                     Model  Score\n",
       "3            Random Forest  98.20\n",
       "6            Decision Tree  98.20\n",
       "0  Support Vector Machines  87.77\n",
       "1                      KNN  83.61\n",
       "2      Logistic Regression  80.58\n",
       "4              Naive Bayes  79.80\n",
       "5               Linear SVC  78.11"
      ]
     },
     "execution_count": 25,
     "metadata": {},
     "output_type": "execute_result"
    }
   ],
   "source": [
    "models = pd.DataFrame({\n",
    "    'Model': ['Support Vector Machines', 'KNN', 'Logistic Regression', \n",
    "              'Random Forest', 'Naive Bayes', 'Linear SVC', \n",
    "              'Decision Tree'],\n",
    "    'Score': [con_svc, con_knn, con_log, \n",
    "              con_random_forest, con_gaussian, \n",
    "            con_linear_svc, con_decision_tree]})\n",
    "models.sort_values(by='Score', ascending=False)"
   ]
  },
  {
   "cell_type": "code",
   "execution_count": 28,
   "metadata": {},
   "outputs": [
    {
     "name": "stdout",
     "output_type": "stream",
     "text": [
      "     PassengerId  Survived\n",
      "0            892         0\n",
      "1            893         0\n",
      "2            894         1\n",
      "3            895         1\n",
      "4            896         1\n",
      "..           ...       ...\n",
      "413         1305         0\n",
      "414         1306         1\n",
      "415         1307         0\n",
      "416         1308         0\n",
      "417         1309         0\n",
      "\n",
      "[418 rows x 2 columns]\n"
     ]
    }
   ],
   "source": [
    "Test_Predictions = pd.DataFrame({\n",
    "        \"PassengerId\": test[\"PassengerId\"],\n",
    "        \"Survived\": decision_tree.predict(X_test)\n",
    "    })\n",
    "print(Test_Predictions)"
   ]
  },
  {
   "cell_type": "markdown",
   "metadata": {},
   "source": [
    "### Conclusion\n",
    "All of our models are great predictors, but Random Forest and Decision Tree produced the best confidence score with 98.2%."
   ]
  }
 ],
 "metadata": {
  "kernelspec": {
   "display_name": "Python 3",
   "language": "python",
   "name": "python3"
  },
  "language_info": {
   "codemirror_mode": {
    "name": "ipython",
    "version": 3
   },
   "file_extension": ".py",
   "mimetype": "text/x-python",
   "name": "python",
   "nbconvert_exporter": "python",
   "pygments_lexer": "ipython3",
   "version": "3.7.4"
  }
 },
 "nbformat": 4,
 "nbformat_minor": 2
}
